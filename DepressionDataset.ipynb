{
 "cells": [
  {
   "cell_type": "code",
   "execution_count": 18,
   "metadata": {
    "scrolled": false
   },
   "outputs": [
    {
     "data": {
      "text/plain": [
       "array([0., 1., 1.])"
      ]
     },
     "execution_count": 18,
     "metadata": {},
     "output_type": "execute_result"
    }
   ],
   "source": [
    "import pandas as pd\n",
    "from sklearn.tree import DecisionTreeRegressor\n",
    "# We are creating both the testdata and traindata dataframes manually\n",
    "traindata = {'TextComments':['''I am currently having the problem of restlessness and needing to move but I also don’t feel like moving''',\n",
    "                         '''I feel sad and con not concentrate in my studies''',\n",
    "                         '''I find faults in all the people around me and I feel lonely and alone''',\n",
    "                         '''My daughter started on depakote at age 16.She did ok but,when she started lithium things changed for the better,Even she recognized\\n\n",
    "                         the change and gets upset if a Dr. Wants to take her off lithium. Everyone and every MD is different''',\n",
    "                         '''I hate the fact that I know some of my triggers but can’t avoid them…l have to just keep up the exposure as I’ve been told this is better\\n\n",
    "                          than isolating myself in fear''',\n",
    "                         '''I’m having a terrible day. Angry at everyone. Been so depressed now for more than 30 days in a row. Hiding in my bedroom away from\\n\n",
    "                          people. Pushing my friends away. I’m trying to fix the urge to cut but fear I’m not strong enough to keep ignoring the call of the blade.\\n\n",
    "                          Please I need help''',\n",
    "                         '''Put an alarm on your phone I need to again it works''',\n",
    "                         '''I use to use rubbing alcohol and worked whl younger but dint give a rats ass now still get teased by it by insecure men. But they can go\n",
    "                          fuck themselves''',\n",
    "                         '''Story of my life. I struggle with these things daily''',\n",
    "                         '''I take Latuda at night because it makes me sleepy and xanax throughout the day for anxiety'''],\n",
    "       'socialwords':[0.0,0.0,6.7,13.6,5.7,8.8,16.7,16.1,10.0,0.0],\n",
    "       'postiveemotion':[0.0,0.0,0.0,4.5,2.9,3.5,0.0,0.0,0.0,0.0],\n",
    "       'negativeemotion':[10.5,10.0,20.0,2.3,11.4,10.5,8.3,9.7,10.0,5.9],\n",
    "       'cognitiveprocceses':[21.1,30.0,20.0,20.5,20.0,10.5,8.3,12.9,0.0,11.8],\n",
    "        'Emotionaltone':[1.0,1.0,1.0,68.7,1.0,1.0,1.0,1.0,1.0,1.0],\n",
    "       'depressiveindicative':[1,1,1,1,1,1,0,0,0,0]}\n",
    "train_data = pd.DataFrame(traindata,columns=['TextComments','socialwords','postiveemotion','negativeemotion','cognitiveprocceses','Emotionaltone','depressiveindicative'])\n",
    "#train_data.head()\n",
    "# traindata end here-----------------------------------------------------\n",
    "\n",
    "testdata = {'TextComments':['''\"So, when you ask what the two illnesses are...they're similar in that they tend to have moodiness involved, impulsivity and self-damaging behaviors for compensatory measures. Otherwise, they're not really that similar, but they do seem to \"\"like\"\" one another and often show up in the same person...making their lives chaotic, difficult, dysfunctional, and intense. \n",
    "\n",
    "                           So, if your friend is concerned that they may have one (or both) of these illnesses, they should not be ashamed. It's definitely not their fault. They should, instead, get help from a professional...and INSIST that they are treated appropriately with the correct types of therapy and medication.\n",
    "                                ''',\n",
    "                         '''Yes, I feel the exact same way. My family avoids me all ways/always now. I have no place in my family and no voice either. I now choose not to give them any info if at all possible. All they do now is hurt me and leave me out of all family functions and matters because I am not strong enough. This is the time you find  your true family and friends. Facebook has helped me tremendously. I will not validate their behavior because it is so stereotypical. They choose to remain ignorant.\n",
    "                            ''',\n",
    "                         '''LONG ANSWER: Bipolar disease is caused by a chemical imbalance in the brain. It can be treated with medication and therapy. Typically people with bipolar disease have learned to compensate for it in unhealthy ways (illegal drug use, eating disorders, gambling, promiscuity, alcoholism, self harm, etc.) and therapy can assist them with overcoming these unhealthy \"coping mechanisms.\" In addition, they may need therapy that assists with rebuilding family relationships that the sufferer (while in a relapse state) has damaged. Bipolar disease often causes lability of emotional response and potentially self-damaging behaviors that come from that. They tend to have periods of mania/hypomania and depression that is severe. During mania, they may feel like they have more energy, be happier (without reason), have grandiose ideas of themself and their abilities, need less sleep, be much more sexual, and engage in risky behaviors without considering the consequences. During depression, they may be suicidal, incapable of caring for themself, engage in self-harm, have a hard time leaving their house/bed, and miss a lot of work. Depending on what \"type\" of Bipolar a person has (Or where they fall on the spectrum) determines quite often how serious their periods of mania/hypomania are and how long those occur...and how serious their depressive episodes are and how long those occur. Regardless, it's a difficult situation they live with constantly. Medication, typically, works to counterbalance the chemical imbalance in their brain (or offset the symptoms) so that they can function somewhat normally without huge highs and lows.\n",
    "                          ''',\n",
    "                         ],\n",
    "       'socialwords':[17.0,13.8,9.0],\n",
    "       'postiveemotion':[0.9,2.1,2.0],\n",
    "       'negativeemotion':[4.7,3.2,5.9],\n",
    "       'cognitiveprocceses':[16.0,22.3,14.5],\n",
    "        'Emotionaltone':[1.0,11.9,1.0]}\n",
    "test_data = pd.DataFrame(testdata,columns = ['TextComments','socialwords','postiveemotion','negativeemotion','cognitiveprocceses','Emotionaltone'])\n",
    "#test_data.head()\n",
    "# testdata ends here -------------------------------------------------------\n",
    "features = ['socialwords','postiveemotion','negativeemotion','cognitiveprocceses','Emotionaltone']\n",
    "X = train_data[features]\n",
    "# feature selection ends here\n",
    "y = train_data.depressiveindicative\n",
    "# y is the main target\n",
    "sample_model = DecisionTreeRegressor(random_state=1)\n",
    "# using the decision tree classifier\n",
    "sample_model.fit(X, y)\n",
    "# this is the step where ml algorithm finds pattern from the test data\n",
    "Z = test_data[features]\n",
    "#Using the patterns found, the results are predicted on our testdata(Z)\n",
    "sample_model.predict(Z)\n",
    "# Thanks for the Scikitlearn package for making our life easy\n",
    "# In the result 1 -> YES 0 -> NO"
   ]
  },
  {
   "cell_type": "code",
   "execution_count": 17,
   "metadata": {},
   "outputs": [
    {
     "data": {
      "text/html": [
       "<div>\n",
       "<style scoped>\n",
       "    .dataframe tbody tr th:only-of-type {\n",
       "        vertical-align: middle;\n",
       "    }\n",
       "\n",
       "    .dataframe tbody tr th {\n",
       "        vertical-align: top;\n",
       "    }\n",
       "\n",
       "    .dataframe thead th {\n",
       "        text-align: right;\n",
       "    }\n",
       "</style>\n",
       "<table border=\"1\" class=\"dataframe\">\n",
       "  <thead>\n",
       "    <tr style=\"text-align: right;\">\n",
       "      <th></th>\n",
       "      <th>TextComments</th>\n",
       "      <th>socialwords</th>\n",
       "      <th>postiveemotion</th>\n",
       "      <th>negativeemotion</th>\n",
       "      <th>cognitiveprocceses</th>\n",
       "      <th>Emotionaltone</th>\n",
       "    </tr>\n",
       "  </thead>\n",
       "  <tbody>\n",
       "    <tr>\n",
       "      <th>0</th>\n",
       "      <td>\"So, when you ask what the two illnesses are.....</td>\n",
       "      <td>17.0</td>\n",
       "      <td>0.9</td>\n",
       "      <td>4.7</td>\n",
       "      <td>16.0</td>\n",
       "      <td>1.0</td>\n",
       "    </tr>\n",
       "    <tr>\n",
       "      <th>1</th>\n",
       "      <td>Yes, I feel the exact same way. My family avoi...</td>\n",
       "      <td>13.8</td>\n",
       "      <td>2.1</td>\n",
       "      <td>3.2</td>\n",
       "      <td>22.3</td>\n",
       "      <td>11.9</td>\n",
       "    </tr>\n",
       "    <tr>\n",
       "      <th>2</th>\n",
       "      <td>LONG ANSWER: Bipolar disease is caused by a ch...</td>\n",
       "      <td>9.0</td>\n",
       "      <td>2.0</td>\n",
       "      <td>5.9</td>\n",
       "      <td>14.5</td>\n",
       "      <td>1.0</td>\n",
       "    </tr>\n",
       "  </tbody>\n",
       "</table>\n",
       "</div>"
      ],
      "text/plain": [
       "                                        TextComments  socialwords  \\\n",
       "0  \"So, when you ask what the two illnesses are.....         17.0   \n",
       "1  Yes, I feel the exact same way. My family avoi...         13.8   \n",
       "2  LONG ANSWER: Bipolar disease is caused by a ch...          9.0   \n",
       "\n",
       "   postiveemotion  negativeemotion  cognitiveprocceses  Emotionaltone  \n",
       "0             0.9              4.7                16.0            1.0  \n",
       "1             2.1              3.2                22.3           11.9  \n",
       "2             2.0              5.9                14.5            1.0  "
      ]
     },
     "execution_count": 17,
     "metadata": {},
     "output_type": "execute_result"
    }
   ],
   "source": [
    "\n"
   ]
  },
  {
   "cell_type": "code",
   "execution_count": null,
   "metadata": {},
   "outputs": [],
   "source": []
  },
  {
   "cell_type": "code",
   "execution_count": null,
   "metadata": {},
   "outputs": [],
   "source": []
  }
 ],
 "metadata": {
  "kernelspec": {
   "display_name": "Python 3",
   "language": "python",
   "name": "python3"
  },
  "language_info": {
   "codemirror_mode": {
    "name": "ipython",
    "version": 3
   },
   "file_extension": ".py",
   "mimetype": "text/x-python",
   "name": "python",
   "nbconvert_exporter": "python",
   "pygments_lexer": "ipython3",
   "version": "3.7.6"
  }
 },
 "nbformat": 4,
 "nbformat_minor": 4
}
